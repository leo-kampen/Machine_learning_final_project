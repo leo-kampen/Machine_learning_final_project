{
  "nbformat": 4,
  "nbformat_minor": 0,
  "metadata": {
    "colab": {
      "provenance": []
    },
    "kernelspec": {
      "name": "python3",
      "display_name": "Python 3"
    },
    "language_info": {
      "name": "python"
    }
  },
  "cells": [
    {
      "cell_type": "code",
      "source": [
        "!pip install pdf2image\n",
        "!pip install pytesseract Pillow\n",
        "!pip install PyPDF2\n"
      ],
      "metadata": {
        "id": "XRJxZqaVDBCG"
      },
      "execution_count": null,
      "outputs": []
    },
    {
      "cell_type": "code",
      "source": [
        "from google.colab import drive\n",
        "import PyPDF2\n",
        "import csv\n",
        "import os\n",
        "\n",
        "# Step 1: Mount Google Drive\n",
        "#drive.mount('/content/drive')\n",
        "\n",
        "# Step 2: Define the folder containing the PDFs in Google Drive\n",
        "pdf_folder_path = \"/content/drive/MyDrive/ML Final Project/ML final model/Resumes\"  # Update this to the correct folder\n",
        "\n",
        "# Step 3: Function to extract text from a PDF\n",
        "def pdf_to_text(file_path):\n",
        "    text = \"\"\n",
        "    with open(file_path, 'rb') as pdf_file:\n",
        "        reader = PyPDF2.PdfReader(pdf_file)\n",
        "        for page in reader.pages:\n",
        "            page_text = page.extract_text()\n",
        "            if page_text:  # Ensure there's content\n",
        "                text += \" \".join(page_text.split()) + \" \"  # Combine into one line\n",
        "    return text.strip()  # Remove trailing whitespace\n",
        "\n",
        "# Step 4: Input titles for the first column\n",
        "titles = ['Accountant', 'Advocate', 'Agriculture', 'Apparel', 'Architecture', 'Arts', 'Automobile', 'Aviation', 'Banking', 'Blockchain', 'Building and Construction', 'Business Analyst', 'Civil Engineer', 'Consultant', 'Data Science', 'Database', 'Designing', 'DevOps', 'Digital Media', 'ETL Developer', 'Education', 'Electrical Engineering', 'Finance', 'Food and Beverages', 'Health and Fitness']  # Update as needed\n",
        "\n",
        "# Validate that there are enough titles for the PDFs\n",
        "pdf_files = sorted([f for f in os.listdir(pdf_folder_path) if f.startswith(\"Profile-\") and f.endswith('.pdf')],\n",
        "                   key=lambda x: int(x.split('-')[1].split('.')[0]))  # Sort numerically by suffix\n",
        "num_pdfs = len(pdf_files)\n",
        "if len(titles) * 2 < num_pdfs:\n",
        "    raise ValueError(\"Not enough titles provided. Each title must cover two PDFs.\")\n",
        "\n",
        "# Step 5: Distribute titles across PDFs\n",
        "title_assignment = [title for title in titles for _ in range(2)]  # Each title covers 2 PDFs\n",
        "\n",
        "# Step 6: Create a CSV file to save the extracted text\n",
        "csv_file_path = \"/content/extracted_TEST.csv\"  # Save in Google Drive\n",
        "with open(csv_file_path, mode='w', newline='', encoding='utf-8') as csv_file:\n",
        "    writer = csv.writer(csv_file)\n",
        "    writer.writerow(['Title', 'Filename', 'Extracted Text'])  # CSV Header\n",
        "\n",
        "    # Step 7: Loop through each PDF file in the folder\n",
        "    for i, pdf_file in enumerate(pdf_files):\n",
        "        title = title_assignment[i % len(title_assignment)]  # Assign titles cyclically\n",
        "        file_path = os.path.join(pdf_folder_path, pdf_file)\n",
        "        print(f\"Processing file: {pdf_file} with title: {title}\")\n",
        "        extracted_text = pdf_to_text(file_path)\n",
        "        writer.writerow([title, pdf_file, extracted_text])  # Write to CSV\n",
        "\n",
        "print(f\"All files processed. CSV saved at '{csv_file_path}'\")\n"
      ],
      "metadata": {
        "colab": {
          "base_uri": "https://localhost:8080/"
        },
        "id": "W6-tlPC4Dw6V",
        "outputId": "7835ebe8-7ed9-4bec-ac07-9d0abe57eb1c"
      },
      "execution_count": null,
      "outputs": [
        {
          "output_type": "stream",
          "name": "stdout",
          "text": [
            "Drive already mounted at /content/drive; to attempt to forcibly remount, call drive.mount(\"/content/drive\", force_remount=True).\n",
            "Processing file: Profile-12.pdf with title: Accountant\n",
            "Processing file: Profile-13.pdf with title: Accountant\n",
            "Processing file: Profile-14.pdf with title: Advocate\n",
            "Processing file: Profile-15.pdf with title: Advocate\n",
            "Processing file: Profile-16.pdf with title: Agriculture\n",
            "Processing file: Profile-17.pdf with title: Agriculture\n",
            "Processing file: Profile-18.pdf with title: Apparel\n",
            "Processing file: Profile-19.pdf with title: Apparel\n",
            "Processing file: Profile-20.pdf with title: Architecture\n",
            "Processing file: Profile-21.pdf with title: Architecture\n",
            "Processing file: Profile-22.pdf with title: Arts\n",
            "Processing file: Profile-23.pdf with title: Arts\n",
            "Processing file: Profile-24.pdf with title: Automobile\n",
            "Processing file: Profile-25.pdf with title: Automobile\n",
            "Processing file: Profile-26.pdf with title: Aviation\n",
            "Processing file: Profile-27.pdf with title: Aviation\n",
            "Processing file: Profile-28.pdf with title: Banking\n",
            "Processing file: Profile-29.pdf with title: Banking\n",
            "Processing file: Profile-30.pdf with title: Blockchain\n",
            "Processing file: Profile-31.pdf with title: Blockchain\n",
            "Processing file: Profile-32.pdf with title: Building and Construction\n",
            "Processing file: Profile-33.pdf with title: Building and Construction\n",
            "Processing file: Profile-34.pdf with title: Business Analyst\n",
            "Processing file: Profile-35.pdf with title: Business Analyst\n",
            "Processing file: Profile-36.pdf with title: Civil Engineer\n",
            "Processing file: Profile-37.pdf with title: Civil Engineer\n",
            "Processing file: Profile-38.pdf with title: Consultant\n",
            "Processing file: Profile-39.pdf with title: Consultant\n",
            "Processing file: Profile-40.pdf with title: Data Science\n",
            "Processing file: Profile-41.pdf with title: Data Science\n",
            "Processing file: Profile-42.pdf with title: Database\n",
            "Processing file: Profile-43.pdf with title: Database\n",
            "Processing file: Profile-44.pdf with title: Designing\n",
            "Processing file: Profile-45.pdf with title: Designing\n",
            "Processing file: Profile-46.pdf with title: DevOps\n",
            "Processing file: Profile-47.pdf with title: DevOps\n",
            "Processing file: Profile-48.pdf with title: Digital Media\n",
            "Processing file: Profile-49.pdf with title: Digital Media\n",
            "Processing file: Profile-50.pdf with title: ETL Developer\n",
            "Processing file: Profile-51.pdf with title: ETL Developer\n",
            "Processing file: Profile-52.pdf with title: Education\n",
            "Processing file: Profile-53.pdf with title: Education\n",
            "Processing file: Profile-54.pdf with title: Electrical Engineering\n",
            "Processing file: Profile-55.pdf with title: Electrical Engineering\n",
            "Processing file: Profile-56.pdf with title: Finance\n",
            "Processing file: Profile-57.pdf with title: Finance\n",
            "Processing file: Profile-58.pdf with title: Food and Beverages\n",
            "Processing file: Profile-59.pdf with title: Food and Beverages\n",
            "Processing file: Profile-60.pdf with title: Health and Fitness\n",
            "Processing file: Profile-61.pdf with title: Health and Fitness\n",
            "All files processed. CSV saved at '/content/extracted_TEST.csv'\n"
          ]
        }
      ]
    }
  ]
}